{
 "cells": [
  {
   "cell_type": "code",
   "execution_count": 1,
   "id": "149d7128",
   "metadata": {
    "_cell_guid": "b1076dfc-b9ad-4769-8c92-a6c4dae69d19",
    "_uuid": "8f2839f25d086af736a60e9eeb907d3b93b6e0e5",
    "execution": {
     "iopub.execute_input": "2023-12-13T16:42:43.113022Z",
     "iopub.status.busy": "2023-12-13T16:42:43.111966Z",
     "iopub.status.idle": "2023-12-13T16:42:46.551705Z",
     "shell.execute_reply": "2023-12-13T16:42:46.550147Z"
    },
    "papermill": {
     "duration": 3.458518,
     "end_time": "2023-12-13T16:42:46.554583",
     "exception": false,
     "start_time": "2023-12-13T16:42:43.096065",
     "status": "completed"
    },
    "tags": []
   },
   "outputs": [],
   "source": [
    "import pandas as pd\n",
    "import numpy as np\n",
    "import matplotlib.pyplot as plt\n",
    "from scipy import stats\n",
    "from sklearn.experimental import enable_iterative_imputer\n",
    "from sklearn.impute import SimpleImputer,KNNImputer,IterativeImputer\n",
    "from sklearn.preprocessing import OrdinalEncoder,OneHotEncoder,MinMaxScaler,StandardScaler,FunctionTransformer\n",
    "from sklearn.feature_selection import f_regression,mutual_info_regression,chi2\n",
    "from sklearn.cluster import KMeans\n",
    "import seaborn as sns"
   ]
  },
  {
   "cell_type": "code",
   "execution_count": 2,
   "id": "dccb3df5",
   "metadata": {
    "execution": {
     "iopub.execute_input": "2023-12-13T16:42:46.586079Z",
     "iopub.status.busy": "2023-12-13T16:42:46.585472Z",
     "iopub.status.idle": "2023-12-13T16:42:46.691397Z",
     "shell.execute_reply": "2023-12-13T16:42:46.690178Z"
    },
    "papermill": {
     "duration": 0.125284,
     "end_time": "2023-12-13T16:42:46.694588",
     "exception": false,
     "start_time": "2023-12-13T16:42:46.569304",
     "status": "completed"
    },
    "tags": []
   },
   "outputs": [],
   "source": [
    "data=pd.read_csv(\"/kaggle/input/california-housing-prices/housing.csv\")"
   ]
  },
  {
   "cell_type": "code",
   "execution_count": 3,
   "id": "ef9572bb",
   "metadata": {
    "execution": {
     "iopub.execute_input": "2023-12-13T16:42:46.724458Z",
     "iopub.status.busy": "2023-12-13T16:42:46.723996Z",
     "iopub.status.idle": "2023-12-13T16:42:46.740671Z",
     "shell.execute_reply": "2023-12-13T16:42:46.739506Z"
    },
    "papermill": {
     "duration": 0.034395,
     "end_time": "2023-12-13T16:42:46.743085",
     "exception": false,
     "start_time": "2023-12-13T16:42:46.708690",
     "status": "completed"
    },
    "tags": []
   },
   "outputs": [
    {
     "data": {
      "text/plain": [
       "longitude             float64\n",
       "latitude              float64\n",
       "housing_median_age    float64\n",
       "total_rooms           float64\n",
       "total_bedrooms        float64\n",
       "population            float64\n",
       "households            float64\n",
       "median_income         float64\n",
       "median_house_value    float64\n",
       "ocean_proximity        object\n",
       "dtype: object"
      ]
     },
     "execution_count": 3,
     "metadata": {},
     "output_type": "execute_result"
    }
   ],
   "source": [
    "data.dtypes"
   ]
  },
  {
   "cell_type": "markdown",
   "id": "adb6442f",
   "metadata": {
    "papermill": {
     "duration": 0.014307,
     "end_time": "2023-12-13T16:42:46.771315",
     "exception": false,
     "start_time": "2023-12-13T16:42:46.757008",
     "status": "completed"
    },
    "tags": []
   },
   "source": [
    "# **Handling Missing Values**"
   ]
  },
  {
   "cell_type": "markdown",
   "id": "c04947f3",
   "metadata": {
    "papermill": {
     "duration": 0.013336,
     "end_time": "2023-12-13T16:42:46.799731",
     "exception": false,
     "start_time": "2023-12-13T16:42:46.786395",
     "status": "completed"
    },
    "tags": []
   },
   "source": [
    "Three ways :\n",
    "1. Remove corresponding rows\n",
    "2. Remove the column\n",
    "3. **Inputation** : replace the missing value with some value like mean , median,mode of attribute."
   ]
  },
  {
   "cell_type": "code",
   "execution_count": 4,
   "id": "d89dcd16",
   "metadata": {
    "execution": {
     "iopub.execute_input": "2023-12-13T16:42:46.829357Z",
     "iopub.status.busy": "2023-12-13T16:42:46.828893Z",
     "iopub.status.idle": "2023-12-13T16:42:46.838606Z",
     "shell.execute_reply": "2023-12-13T16:42:46.837462Z"
    },
    "papermill": {
     "duration": 0.02731,
     "end_time": "2023-12-13T16:42:46.841205",
     "exception": false,
     "start_time": "2023-12-13T16:42:46.813895",
     "status": "completed"
    },
    "tags": []
   },
   "outputs": [
    {
     "data": {
      "text/plain": [
       "True"
      ]
     },
     "execution_count": 4,
     "metadata": {},
     "output_type": "execute_result"
    }
   ],
   "source": [
    "data.isnull().values.any()"
   ]
  },
  {
   "cell_type": "code",
   "execution_count": 5,
   "id": "4ad20b49",
   "metadata": {
    "execution": {
     "iopub.execute_input": "2023-12-13T16:42:46.871905Z",
     "iopub.status.busy": "2023-12-13T16:42:46.870525Z",
     "iopub.status.idle": "2023-12-13T16:42:46.879074Z",
     "shell.execute_reply": "2023-12-13T16:42:46.877801Z"
    },
    "papermill": {
     "duration": 0.026235,
     "end_time": "2023-12-13T16:42:46.881511",
     "exception": false,
     "start_time": "2023-12-13T16:42:46.855276",
     "status": "completed"
    },
    "tags": []
   },
   "outputs": [
    {
     "data": {
      "text/plain": [
       "Index(['longitude', 'latitude', 'housing_median_age', 'total_rooms',\n",
       "       'total_bedrooms', 'population', 'households', 'median_income',\n",
       "       'median_house_value', 'ocean_proximity'],\n",
       "      dtype='object')"
      ]
     },
     "execution_count": 5,
     "metadata": {},
     "output_type": "execute_result"
    }
   ],
   "source": [
    "data.columns"
   ]
  },
  {
   "cell_type": "code",
   "execution_count": 6,
   "id": "41c22728",
   "metadata": {
    "execution": {
     "iopub.execute_input": "2023-12-13T16:42:46.912434Z",
     "iopub.status.busy": "2023-12-13T16:42:46.911262Z",
     "iopub.status.idle": "2023-12-13T16:42:46.920055Z",
     "shell.execute_reply": "2023-12-13T16:42:46.918881Z"
    },
    "papermill": {
     "duration": 0.026779,
     "end_time": "2023-12-13T16:42:46.922530",
     "exception": false,
     "start_time": "2023-12-13T16:42:46.895751",
     "status": "completed"
    },
    "tags": []
   },
   "outputs": [
    {
     "data": {
      "text/plain": [
       "True"
      ]
     },
     "execution_count": 6,
     "metadata": {},
     "output_type": "execute_result"
    }
   ],
   "source": [
    "data.total_bedrooms.isnull().any()"
   ]
  },
  {
   "cell_type": "code",
   "execution_count": 7,
   "id": "c6ccd6aa",
   "metadata": {
    "execution": {
     "iopub.execute_input": "2023-12-13T16:42:46.953195Z",
     "iopub.status.busy": "2023-12-13T16:42:46.952633Z",
     "iopub.status.idle": "2023-12-13T16:42:47.000109Z",
     "shell.execute_reply": "2023-12-13T16:42:46.998773Z"
    },
    "papermill": {
     "duration": 0.065577,
     "end_time": "2023-12-13T16:42:47.002557",
     "exception": false,
     "start_time": "2023-12-13T16:42:46.936980",
     "status": "completed"
    },
    "tags": []
   },
   "outputs": [
    {
     "data": {
      "text/html": [
       "<div>\n",
       "<style scoped>\n",
       "    .dataframe tbody tr th:only-of-type {\n",
       "        vertical-align: middle;\n",
       "    }\n",
       "\n",
       "    .dataframe tbody tr th {\n",
       "        vertical-align: top;\n",
       "    }\n",
       "\n",
       "    .dataframe thead th {\n",
       "        text-align: right;\n",
       "    }\n",
       "</style>\n",
       "<table border=\"1\" class=\"dataframe\">\n",
       "  <thead>\n",
       "    <tr style=\"text-align: right;\">\n",
       "      <th></th>\n",
       "      <th>longitude</th>\n",
       "      <th>latitude</th>\n",
       "      <th>housing_median_age</th>\n",
       "      <th>total_rooms</th>\n",
       "      <th>population</th>\n",
       "      <th>households</th>\n",
       "      <th>median_income</th>\n",
       "      <th>median_house_value</th>\n",
       "      <th>ocean_proximity</th>\n",
       "    </tr>\n",
       "  </thead>\n",
       "  <tbody>\n",
       "    <tr>\n",
       "      <th>0</th>\n",
       "      <td>-122.23</td>\n",
       "      <td>37.88</td>\n",
       "      <td>41.0</td>\n",
       "      <td>880.0</td>\n",
       "      <td>322.0</td>\n",
       "      <td>126.0</td>\n",
       "      <td>8.3252</td>\n",
       "      <td>452600.0</td>\n",
       "      <td>NEAR BAY</td>\n",
       "    </tr>\n",
       "    <tr>\n",
       "      <th>1</th>\n",
       "      <td>-122.22</td>\n",
       "      <td>37.86</td>\n",
       "      <td>21.0</td>\n",
       "      <td>7099.0</td>\n",
       "      <td>2401.0</td>\n",
       "      <td>1138.0</td>\n",
       "      <td>8.3014</td>\n",
       "      <td>358500.0</td>\n",
       "      <td>NEAR BAY</td>\n",
       "    </tr>\n",
       "    <tr>\n",
       "      <th>2</th>\n",
       "      <td>-122.24</td>\n",
       "      <td>37.85</td>\n",
       "      <td>52.0</td>\n",
       "      <td>1467.0</td>\n",
       "      <td>496.0</td>\n",
       "      <td>177.0</td>\n",
       "      <td>7.2574</td>\n",
       "      <td>352100.0</td>\n",
       "      <td>NEAR BAY</td>\n",
       "    </tr>\n",
       "    <tr>\n",
       "      <th>3</th>\n",
       "      <td>-122.25</td>\n",
       "      <td>37.85</td>\n",
       "      <td>52.0</td>\n",
       "      <td>1274.0</td>\n",
       "      <td>558.0</td>\n",
       "      <td>219.0</td>\n",
       "      <td>5.6431</td>\n",
       "      <td>341300.0</td>\n",
       "      <td>NEAR BAY</td>\n",
       "    </tr>\n",
       "    <tr>\n",
       "      <th>4</th>\n",
       "      <td>-122.25</td>\n",
       "      <td>37.85</td>\n",
       "      <td>52.0</td>\n",
       "      <td>1627.0</td>\n",
       "      <td>565.0</td>\n",
       "      <td>259.0</td>\n",
       "      <td>3.8462</td>\n",
       "      <td>342200.0</td>\n",
       "      <td>NEAR BAY</td>\n",
       "    </tr>\n",
       "    <tr>\n",
       "      <th>...</th>\n",
       "      <td>...</td>\n",
       "      <td>...</td>\n",
       "      <td>...</td>\n",
       "      <td>...</td>\n",
       "      <td>...</td>\n",
       "      <td>...</td>\n",
       "      <td>...</td>\n",
       "      <td>...</td>\n",
       "      <td>...</td>\n",
       "    </tr>\n",
       "    <tr>\n",
       "      <th>20635</th>\n",
       "      <td>-121.09</td>\n",
       "      <td>39.48</td>\n",
       "      <td>25.0</td>\n",
       "      <td>1665.0</td>\n",
       "      <td>845.0</td>\n",
       "      <td>330.0</td>\n",
       "      <td>1.5603</td>\n",
       "      <td>78100.0</td>\n",
       "      <td>INLAND</td>\n",
       "    </tr>\n",
       "    <tr>\n",
       "      <th>20636</th>\n",
       "      <td>-121.21</td>\n",
       "      <td>39.49</td>\n",
       "      <td>18.0</td>\n",
       "      <td>697.0</td>\n",
       "      <td>356.0</td>\n",
       "      <td>114.0</td>\n",
       "      <td>2.5568</td>\n",
       "      <td>77100.0</td>\n",
       "      <td>INLAND</td>\n",
       "    </tr>\n",
       "    <tr>\n",
       "      <th>20637</th>\n",
       "      <td>-121.22</td>\n",
       "      <td>39.43</td>\n",
       "      <td>17.0</td>\n",
       "      <td>2254.0</td>\n",
       "      <td>1007.0</td>\n",
       "      <td>433.0</td>\n",
       "      <td>1.7000</td>\n",
       "      <td>92300.0</td>\n",
       "      <td>INLAND</td>\n",
       "    </tr>\n",
       "    <tr>\n",
       "      <th>20638</th>\n",
       "      <td>-121.32</td>\n",
       "      <td>39.43</td>\n",
       "      <td>18.0</td>\n",
       "      <td>1860.0</td>\n",
       "      <td>741.0</td>\n",
       "      <td>349.0</td>\n",
       "      <td>1.8672</td>\n",
       "      <td>84700.0</td>\n",
       "      <td>INLAND</td>\n",
       "    </tr>\n",
       "    <tr>\n",
       "      <th>20639</th>\n",
       "      <td>-121.24</td>\n",
       "      <td>39.37</td>\n",
       "      <td>16.0</td>\n",
       "      <td>2785.0</td>\n",
       "      <td>1387.0</td>\n",
       "      <td>530.0</td>\n",
       "      <td>2.3886</td>\n",
       "      <td>89400.0</td>\n",
       "      <td>INLAND</td>\n",
       "    </tr>\n",
       "  </tbody>\n",
       "</table>\n",
       "<p>20640 rows × 9 columns</p>\n",
       "</div>"
      ],
      "text/plain": [
       "       longitude  latitude  housing_median_age  total_rooms  population  \\\n",
       "0        -122.23     37.88                41.0        880.0       322.0   \n",
       "1        -122.22     37.86                21.0       7099.0      2401.0   \n",
       "2        -122.24     37.85                52.0       1467.0       496.0   \n",
       "3        -122.25     37.85                52.0       1274.0       558.0   \n",
       "4        -122.25     37.85                52.0       1627.0       565.0   \n",
       "...          ...       ...                 ...          ...         ...   \n",
       "20635    -121.09     39.48                25.0       1665.0       845.0   \n",
       "20636    -121.21     39.49                18.0        697.0       356.0   \n",
       "20637    -121.22     39.43                17.0       2254.0      1007.0   \n",
       "20638    -121.32     39.43                18.0       1860.0       741.0   \n",
       "20639    -121.24     39.37                16.0       2785.0      1387.0   \n",
       "\n",
       "       households  median_income  median_house_value ocean_proximity  \n",
       "0           126.0         8.3252            452600.0        NEAR BAY  \n",
       "1          1138.0         8.3014            358500.0        NEAR BAY  \n",
       "2           177.0         7.2574            352100.0        NEAR BAY  \n",
       "3           219.0         5.6431            341300.0        NEAR BAY  \n",
       "4           259.0         3.8462            342200.0        NEAR BAY  \n",
       "...           ...            ...                 ...             ...  \n",
       "20635       330.0         1.5603             78100.0          INLAND  \n",
       "20636       114.0         2.5568             77100.0          INLAND  \n",
       "20637       433.0         1.7000             92300.0          INLAND  \n",
       "20638       349.0         1.8672             84700.0          INLAND  \n",
       "20639       530.0         2.3886             89400.0          INLAND  \n",
       "\n",
       "[20640 rows x 9 columns]"
      ]
     },
     "execution_count": 7,
     "metadata": {},
     "output_type": "execute_result"
    }
   ],
   "source": [
    "# 1st option \n",
    "data.dropna(subset=['total_bedrooms'])\n",
    "# 2nd option\n",
    "data.drop(columns='total_bedrooms')"
   ]
  },
  {
   "cell_type": "code",
   "execution_count": 8,
   "id": "7ecde435",
   "metadata": {
    "execution": {
     "iopub.execute_input": "2023-12-13T16:42:47.035250Z",
     "iopub.status.busy": "2023-12-13T16:42:47.034322Z",
     "iopub.status.idle": "2023-12-13T16:42:47.077399Z",
     "shell.execute_reply": "2023-12-13T16:42:47.076177Z"
    },
    "papermill": {
     "duration": 0.062633,
     "end_time": "2023-12-13T16:42:47.080227",
     "exception": false,
     "start_time": "2023-12-13T16:42:47.017594",
     "status": "completed"
    },
    "tags": []
   },
   "outputs": [
    {
     "data": {
      "text/html": [
       "<style>#sk-container-id-1 {color: black;background-color: white;}#sk-container-id-1 pre{padding: 0;}#sk-container-id-1 div.sk-toggleable {background-color: white;}#sk-container-id-1 label.sk-toggleable__label {cursor: pointer;display: block;width: 100%;margin-bottom: 0;padding: 0.3em;box-sizing: border-box;text-align: center;}#sk-container-id-1 label.sk-toggleable__label-arrow:before {content: \"▸\";float: left;margin-right: 0.25em;color: #696969;}#sk-container-id-1 label.sk-toggleable__label-arrow:hover:before {color: black;}#sk-container-id-1 div.sk-estimator:hover label.sk-toggleable__label-arrow:before {color: black;}#sk-container-id-1 div.sk-toggleable__content {max-height: 0;max-width: 0;overflow: hidden;text-align: left;background-color: #f0f8ff;}#sk-container-id-1 div.sk-toggleable__content pre {margin: 0.2em;color: black;border-radius: 0.25em;background-color: #f0f8ff;}#sk-container-id-1 input.sk-toggleable__control:checked~div.sk-toggleable__content {max-height: 200px;max-width: 100%;overflow: auto;}#sk-container-id-1 input.sk-toggleable__control:checked~label.sk-toggleable__label-arrow:before {content: \"▾\";}#sk-container-id-1 div.sk-estimator input.sk-toggleable__control:checked~label.sk-toggleable__label {background-color: #d4ebff;}#sk-container-id-1 div.sk-label input.sk-toggleable__control:checked~label.sk-toggleable__label {background-color: #d4ebff;}#sk-container-id-1 input.sk-hidden--visually {border: 0;clip: rect(1px 1px 1px 1px);clip: rect(1px, 1px, 1px, 1px);height: 1px;margin: -1px;overflow: hidden;padding: 0;position: absolute;width: 1px;}#sk-container-id-1 div.sk-estimator {font-family: monospace;background-color: #f0f8ff;border: 1px dotted black;border-radius: 0.25em;box-sizing: border-box;margin-bottom: 0.5em;}#sk-container-id-1 div.sk-estimator:hover {background-color: #d4ebff;}#sk-container-id-1 div.sk-parallel-item::after {content: \"\";width: 100%;border-bottom: 1px solid gray;flex-grow: 1;}#sk-container-id-1 div.sk-label:hover label.sk-toggleable__label {background-color: #d4ebff;}#sk-container-id-1 div.sk-serial::before {content: \"\";position: absolute;border-left: 1px solid gray;box-sizing: border-box;top: 0;bottom: 0;left: 50%;z-index: 0;}#sk-container-id-1 div.sk-serial {display: flex;flex-direction: column;align-items: center;background-color: white;padding-right: 0.2em;padding-left: 0.2em;position: relative;}#sk-container-id-1 div.sk-item {position: relative;z-index: 1;}#sk-container-id-1 div.sk-parallel {display: flex;align-items: stretch;justify-content: center;background-color: white;position: relative;}#sk-container-id-1 div.sk-item::before, #sk-container-id-1 div.sk-parallel-item::before {content: \"\";position: absolute;border-left: 1px solid gray;box-sizing: border-box;top: 0;bottom: 0;left: 50%;z-index: -1;}#sk-container-id-1 div.sk-parallel-item {display: flex;flex-direction: column;z-index: 1;position: relative;background-color: white;}#sk-container-id-1 div.sk-parallel-item:first-child::after {align-self: flex-end;width: 50%;}#sk-container-id-1 div.sk-parallel-item:last-child::after {align-self: flex-start;width: 50%;}#sk-container-id-1 div.sk-parallel-item:only-child::after {width: 0;}#sk-container-id-1 div.sk-dashed-wrapped {border: 1px dashed gray;margin: 0 0.4em 0.5em 0.4em;box-sizing: border-box;padding-bottom: 0.4em;background-color: white;}#sk-container-id-1 div.sk-label label {font-family: monospace;font-weight: bold;display: inline-block;line-height: 1.2em;}#sk-container-id-1 div.sk-label-container {text-align: center;}#sk-container-id-1 div.sk-container {/* jupyter's `normalize.less` sets `[hidden] { display: none; }` but bootstrap.min.css set `[hidden] { display: none !important; }` so we also need the `!important` here to be able to override the default hidden behavior on the sphinx rendered scikit-learn.org. See: https://github.com/scikit-learn/scikit-learn/issues/21755 */display: inline-block !important;position: relative;}#sk-container-id-1 div.sk-text-repr-fallback {display: none;}</style><div id=\"sk-container-id-1\" class=\"sk-top-container\"><div class=\"sk-text-repr-fallback\"><pre>SimpleImputer(strategy=&#x27;median&#x27;)</pre><b>In a Jupyter environment, please rerun this cell to show the HTML representation or trust the notebook. <br />On GitHub, the HTML representation is unable to render, please try loading this page with nbviewer.org.</b></div><div class=\"sk-container\" hidden><div class=\"sk-item\"><div class=\"sk-estimator sk-toggleable\"><input class=\"sk-toggleable__control sk-hidden--visually\" id=\"sk-estimator-id-1\" type=\"checkbox\" checked><label for=\"sk-estimator-id-1\" class=\"sk-toggleable__label sk-toggleable__label-arrow\">SimpleImputer</label><div class=\"sk-toggleable__content\"><pre>SimpleImputer(strategy=&#x27;median&#x27;)</pre></div></div></div></div></div>"
      ],
      "text/plain": [
       "SimpleImputer(strategy='median')"
      ]
     },
     "execution_count": 8,
     "metadata": {},
     "output_type": "execute_result"
    }
   ],
   "source": [
    "# 3rd option\n",
    "imputer=SimpleImputer(strategy=\"median\")\n",
    "#will replace missing values with the median of data \n",
    "# most_frequent and constant strategy is supported by non-numercal data also\n",
    "data_num=data.select_dtypes(include=[np.number])\n",
    "imputer.fit(data_num)"
   ]
  },
  {
   "cell_type": "code",
   "execution_count": 9,
   "id": "6adb97b6",
   "metadata": {
    "execution": {
     "iopub.execute_input": "2023-12-13T16:42:47.115336Z",
     "iopub.status.busy": "2023-12-13T16:42:47.114899Z",
     "iopub.status.idle": "2023-12-13T16:42:47.122748Z",
     "shell.execute_reply": "2023-12-13T16:42:47.121473Z"
    },
    "papermill": {
     "duration": 0.030368,
     "end_time": "2023-12-13T16:42:47.125470",
     "exception": false,
     "start_time": "2023-12-13T16:42:47.095102",
     "status": "completed"
    },
    "tags": []
   },
   "outputs": [
    {
     "data": {
      "text/plain": [
       "array([-1.1849e+02,  3.4260e+01,  2.9000e+01,  2.1270e+03,  4.3500e+02,\n",
       "        1.1660e+03,  4.0900e+02,  3.5348e+00,  1.7970e+05])"
      ]
     },
     "execution_count": 9,
     "metadata": {},
     "output_type": "execute_result"
    }
   ],
   "source": [
    "imputer.statistics_#median of each attribute"
   ]
  },
  {
   "cell_type": "code",
   "execution_count": 10,
   "id": "c5482361",
   "metadata": {
    "execution": {
     "iopub.execute_input": "2023-12-13T16:42:47.157496Z",
     "iopub.status.busy": "2023-12-13T16:42:47.157042Z",
     "iopub.status.idle": "2023-12-13T16:42:47.168652Z",
     "shell.execute_reply": "2023-12-13T16:42:47.167388Z"
    },
    "papermill": {
     "duration": 0.031213,
     "end_time": "2023-12-13T16:42:47.171523",
     "exception": false,
     "start_time": "2023-12-13T16:42:47.140310",
     "status": "completed"
    },
    "tags": []
   },
   "outputs": [],
   "source": [
    "data_num=imputer.transform(data_num)"
   ]
  },
  {
   "cell_type": "code",
   "execution_count": 11,
   "id": "f56d95eb",
   "metadata": {
    "execution": {
     "iopub.execute_input": "2023-12-13T16:42:47.204290Z",
     "iopub.status.busy": "2023-12-13T16:42:47.203844Z",
     "iopub.status.idle": "2023-12-13T16:42:47.613467Z",
     "shell.execute_reply": "2023-12-13T16:42:47.612145Z"
    },
    "papermill": {
     "duration": 0.430286,
     "end_time": "2023-12-13T16:42:47.616860",
     "exception": false,
     "start_time": "2023-12-13T16:42:47.186574",
     "status": "completed"
    },
    "tags": []
   },
   "outputs": [],
   "source": [
    "imputer=KNNImputer(n_neighbors=10)\n",
    "# will take mean of 10 nearest neighbours\n",
    "data_num=data.select_dtypes(include=[np.number])\n",
    "imputer.fit(data_num)\n",
    "data_num=imputer.transform(data_num)"
   ]
  },
  {
   "cell_type": "code",
   "execution_count": 12,
   "id": "dcb870f8",
   "metadata": {
    "execution": {
     "iopub.execute_input": "2023-12-13T16:42:47.649031Z",
     "iopub.status.busy": "2023-12-13T16:42:47.648627Z",
     "iopub.status.idle": "2023-12-13T16:42:48.261174Z",
     "shell.execute_reply": "2023-12-13T16:42:48.259299Z"
    },
    "papermill": {
     "duration": 0.634315,
     "end_time": "2023-12-13T16:42:48.266591",
     "exception": false,
     "start_time": "2023-12-13T16:42:47.632276",
     "status": "completed"
    },
    "tags": []
   },
   "outputs": [],
   "source": [
    "imputer=IterativeImputer()\n",
    "# trains a regression model based other features to predict the missing values \n",
    "data_num=data.select_dtypes(include=[np.number])\n",
    "imputer.fit(data_num)\n",
    "data_num=imputer.transform(data_num)"
   ]
  },
  {
   "cell_type": "markdown",
   "id": "5040b2d5",
   "metadata": {
    "papermill": {
     "duration": 0.014478,
     "end_time": "2023-12-13T16:42:48.404511",
     "exception": false,
     "start_time": "2023-12-13T16:42:48.390033",
     "status": "completed"
    },
    "tags": []
   },
   "source": [
    "# **Handling Categorical Data**"
   ]
  },
  {
   "cell_type": "markdown",
   "id": "8a4a6e3a",
   "metadata": {
    "papermill": {
     "duration": 0.014646,
     "end_time": "2023-12-13T16:42:48.433860",
     "exception": false,
     "start_time": "2023-12-13T16:42:48.419214",
     "status": "completed"
    },
    "tags": []
   },
   "source": [
    "Two ways :\n",
    "\n",
    "1. Ordinal Encoding\n",
    "2. OneHot Encoding\n",
    "3. Embeddings"
   ]
  },
  {
   "cell_type": "code",
   "execution_count": 13,
   "id": "fb7c8e22",
   "metadata": {
    "execution": {
     "iopub.execute_input": "2023-12-13T16:42:48.465521Z",
     "iopub.status.busy": "2023-12-13T16:42:48.465062Z",
     "iopub.status.idle": "2023-12-13T16:42:48.471440Z",
     "shell.execute_reply": "2023-12-13T16:42:48.470472Z"
    },
    "papermill": {
     "duration": 0.025062,
     "end_time": "2023-12-13T16:42:48.473791",
     "exception": false,
     "start_time": "2023-12-13T16:42:48.448729",
     "status": "completed"
    },
    "tags": []
   },
   "outputs": [],
   "source": [
    "data_cat=data[['ocean_proximity']]"
   ]
  },
  {
   "cell_type": "code",
   "execution_count": 14,
   "id": "1a706cb1",
   "metadata": {
    "execution": {
     "iopub.execute_input": "2023-12-13T16:42:48.506081Z",
     "iopub.status.busy": "2023-12-13T16:42:48.505680Z",
     "iopub.status.idle": "2023-12-13T16:42:48.522458Z",
     "shell.execute_reply": "2023-12-13T16:42:48.521219Z"
    },
    "papermill": {
     "duration": 0.036051,
     "end_time": "2023-12-13T16:42:48.524908",
     "exception": false,
     "start_time": "2023-12-13T16:42:48.488857",
     "status": "completed"
    },
    "tags": []
   },
   "outputs": [
    {
     "data": {
      "text/plain": [
       "array([[3.],\n",
       "       [3.],\n",
       "       [3.],\n",
       "       ...,\n",
       "       [1.],\n",
       "       [1.],\n",
       "       [1.]])"
      ]
     },
     "execution_count": 14,
     "metadata": {},
     "output_type": "execute_result"
    }
   ],
   "source": [
    "#1st option\n",
    "ordinal_encoder=OrdinalEncoder()#will map each category to a number\n",
    "data_cat_encoded=ordinal_encoder.fit_transform(data_cat)\n",
    "data_cat_encoded"
   ]
  },
  {
   "cell_type": "code",
   "execution_count": 15,
   "id": "7a98b3ee",
   "metadata": {
    "execution": {
     "iopub.execute_input": "2023-12-13T16:42:48.558203Z",
     "iopub.status.busy": "2023-12-13T16:42:48.556769Z",
     "iopub.status.idle": "2023-12-13T16:42:48.565044Z",
     "shell.execute_reply": "2023-12-13T16:42:48.563820Z"
    },
    "papermill": {
     "duration": 0.027597,
     "end_time": "2023-12-13T16:42:48.567522",
     "exception": false,
     "start_time": "2023-12-13T16:42:48.539925",
     "status": "completed"
    },
    "tags": []
   },
   "outputs": [
    {
     "data": {
      "text/plain": [
       "[array(['<1H OCEAN', 'INLAND', 'ISLAND', 'NEAR BAY', 'NEAR OCEAN'],\n",
       "       dtype=object)]"
      ]
     },
     "execution_count": 15,
     "metadata": {},
     "output_type": "execute_result"
    }
   ],
   "source": [
    "ordinal_encoder.categories_\n",
    "#The disadvantage with this method is that ML algos might think that two \n",
    "#nearby values more similar than the far ones  "
   ]
  },
  {
   "cell_type": "code",
   "execution_count": 16,
   "id": "9ae009d5",
   "metadata": {
    "execution": {
     "iopub.execute_input": "2023-12-13T16:42:48.601762Z",
     "iopub.status.busy": "2023-12-13T16:42:48.601325Z",
     "iopub.status.idle": "2023-12-13T16:42:48.622852Z",
     "shell.execute_reply": "2023-12-13T16:42:48.621728Z"
    },
    "papermill": {
     "duration": 0.042255,
     "end_time": "2023-12-13T16:42:48.625604",
     "exception": false,
     "start_time": "2023-12-13T16:42:48.583349",
     "status": "completed"
    },
    "tags": []
   },
   "outputs": [
    {
     "data": {
      "text/plain": [
       "array([[0., 0., 0., 1., 0.],\n",
       "       [0., 0., 0., 1., 0.],\n",
       "       [0., 0., 0., 1., 0.],\n",
       "       ...,\n",
       "       [0., 1., 0., 0., 0.],\n",
       "       [0., 1., 0., 0., 0.],\n",
       "       [0., 1., 0., 0., 0.]])"
      ]
     },
     "execution_count": 16,
     "metadata": {},
     "output_type": "execute_result"
    }
   ],
   "source": [
    "#2nd option\n",
    "onehot_encoder=OneHotEncoder()\n",
    "#it will create new columns for each category\n",
    "# column value will be one if the that value is present in the row\n",
    "data_cat_encoded=onehot_encoder.fit_transform(data_cat)\n",
    "data_cat_encoded.toarray()\n",
    "#Disadvantage : training increases vey much if large number of \n",
    "#categorries are present"
   ]
  },
  {
   "cell_type": "markdown",
   "id": "3264efdd",
   "metadata": {
    "papermill": {
     "duration": 0.015016,
     "end_time": "2023-12-13T16:42:48.656136",
     "exception": false,
     "start_time": "2023-12-13T16:42:48.641120",
     "status": "completed"
    },
    "tags": []
   },
   "source": [
    "You can try more encoders from https://contrib.scikit-learn.org/category_encoders/"
   ]
  },
  {
   "cell_type": "markdown",
   "id": "4a40aebc",
   "metadata": {
    "papermill": {
     "duration": 0.015086,
     "end_time": "2023-12-13T16:42:48.686571",
     "exception": false,
     "start_time": "2023-12-13T16:42:48.671485",
     "status": "completed"
    },
    "tags": []
   },
   "source": [
    "# **Feature Scaling**"
   ]
  },
  {
   "cell_type": "code",
   "execution_count": 17,
   "id": "032b2485",
   "metadata": {
    "execution": {
     "iopub.execute_input": "2023-12-13T16:42:48.719086Z",
     "iopub.status.busy": "2023-12-13T16:42:48.718648Z",
     "iopub.status.idle": "2023-12-13T16:42:48.769316Z",
     "shell.execute_reply": "2023-12-13T16:42:48.768096Z"
    },
    "papermill": {
     "duration": 0.070079,
     "end_time": "2023-12-13T16:42:48.772067",
     "exception": false,
     "start_time": "2023-12-13T16:42:48.701988",
     "status": "completed"
    },
    "tags": []
   },
   "outputs": [
    {
     "data": {
      "text/html": [
       "<div>\n",
       "<style scoped>\n",
       "    .dataframe tbody tr th:only-of-type {\n",
       "        vertical-align: middle;\n",
       "    }\n",
       "\n",
       "    .dataframe tbody tr th {\n",
       "        vertical-align: top;\n",
       "    }\n",
       "\n",
       "    .dataframe thead th {\n",
       "        text-align: right;\n",
       "    }\n",
       "</style>\n",
       "<table border=\"1\" class=\"dataframe\">\n",
       "  <thead>\n",
       "    <tr style=\"text-align: right;\">\n",
       "      <th></th>\n",
       "      <th>longitude</th>\n",
       "      <th>latitude</th>\n",
       "      <th>housing_median_age</th>\n",
       "      <th>total_rooms</th>\n",
       "      <th>total_bedrooms</th>\n",
       "      <th>population</th>\n",
       "      <th>households</th>\n",
       "      <th>median_income</th>\n",
       "      <th>median_house_value</th>\n",
       "    </tr>\n",
       "  </thead>\n",
       "  <tbody>\n",
       "    <tr>\n",
       "      <th>count</th>\n",
       "      <td>20640.000000</td>\n",
       "      <td>20640.000000</td>\n",
       "      <td>20640.000000</td>\n",
       "      <td>20640.000000</td>\n",
       "      <td>20433.000000</td>\n",
       "      <td>20640.000000</td>\n",
       "      <td>20640.000000</td>\n",
       "      <td>20640.000000</td>\n",
       "      <td>20640.000000</td>\n",
       "    </tr>\n",
       "    <tr>\n",
       "      <th>mean</th>\n",
       "      <td>-119.569704</td>\n",
       "      <td>35.631861</td>\n",
       "      <td>28.639486</td>\n",
       "      <td>2635.763081</td>\n",
       "      <td>537.870553</td>\n",
       "      <td>1425.476744</td>\n",
       "      <td>499.539680</td>\n",
       "      <td>3.870671</td>\n",
       "      <td>206855.816909</td>\n",
       "    </tr>\n",
       "    <tr>\n",
       "      <th>std</th>\n",
       "      <td>2.003532</td>\n",
       "      <td>2.135952</td>\n",
       "      <td>12.585558</td>\n",
       "      <td>2181.615252</td>\n",
       "      <td>421.385070</td>\n",
       "      <td>1132.462122</td>\n",
       "      <td>382.329753</td>\n",
       "      <td>1.899822</td>\n",
       "      <td>115395.615874</td>\n",
       "    </tr>\n",
       "    <tr>\n",
       "      <th>min</th>\n",
       "      <td>-124.350000</td>\n",
       "      <td>32.540000</td>\n",
       "      <td>1.000000</td>\n",
       "      <td>2.000000</td>\n",
       "      <td>1.000000</td>\n",
       "      <td>3.000000</td>\n",
       "      <td>1.000000</td>\n",
       "      <td>0.499900</td>\n",
       "      <td>14999.000000</td>\n",
       "    </tr>\n",
       "    <tr>\n",
       "      <th>25%</th>\n",
       "      <td>-121.800000</td>\n",
       "      <td>33.930000</td>\n",
       "      <td>18.000000</td>\n",
       "      <td>1447.750000</td>\n",
       "      <td>296.000000</td>\n",
       "      <td>787.000000</td>\n",
       "      <td>280.000000</td>\n",
       "      <td>2.563400</td>\n",
       "      <td>119600.000000</td>\n",
       "    </tr>\n",
       "    <tr>\n",
       "      <th>50%</th>\n",
       "      <td>-118.490000</td>\n",
       "      <td>34.260000</td>\n",
       "      <td>29.000000</td>\n",
       "      <td>2127.000000</td>\n",
       "      <td>435.000000</td>\n",
       "      <td>1166.000000</td>\n",
       "      <td>409.000000</td>\n",
       "      <td>3.534800</td>\n",
       "      <td>179700.000000</td>\n",
       "    </tr>\n",
       "    <tr>\n",
       "      <th>75%</th>\n",
       "      <td>-118.010000</td>\n",
       "      <td>37.710000</td>\n",
       "      <td>37.000000</td>\n",
       "      <td>3148.000000</td>\n",
       "      <td>647.000000</td>\n",
       "      <td>1725.000000</td>\n",
       "      <td>605.000000</td>\n",
       "      <td>4.743250</td>\n",
       "      <td>264725.000000</td>\n",
       "    </tr>\n",
       "    <tr>\n",
       "      <th>max</th>\n",
       "      <td>-114.310000</td>\n",
       "      <td>41.950000</td>\n",
       "      <td>52.000000</td>\n",
       "      <td>39320.000000</td>\n",
       "      <td>6445.000000</td>\n",
       "      <td>35682.000000</td>\n",
       "      <td>6082.000000</td>\n",
       "      <td>15.000100</td>\n",
       "      <td>500001.000000</td>\n",
       "    </tr>\n",
       "  </tbody>\n",
       "</table>\n",
       "</div>"
      ],
      "text/plain": [
       "          longitude      latitude  housing_median_age   total_rooms  \\\n",
       "count  20640.000000  20640.000000        20640.000000  20640.000000   \n",
       "mean    -119.569704     35.631861           28.639486   2635.763081   \n",
       "std        2.003532      2.135952           12.585558   2181.615252   \n",
       "min     -124.350000     32.540000            1.000000      2.000000   \n",
       "25%     -121.800000     33.930000           18.000000   1447.750000   \n",
       "50%     -118.490000     34.260000           29.000000   2127.000000   \n",
       "75%     -118.010000     37.710000           37.000000   3148.000000   \n",
       "max     -114.310000     41.950000           52.000000  39320.000000   \n",
       "\n",
       "       total_bedrooms    population    households  median_income  \\\n",
       "count    20433.000000  20640.000000  20640.000000   20640.000000   \n",
       "mean       537.870553   1425.476744    499.539680       3.870671   \n",
       "std        421.385070   1132.462122    382.329753       1.899822   \n",
       "min          1.000000      3.000000      1.000000       0.499900   \n",
       "25%        296.000000    787.000000    280.000000       2.563400   \n",
       "50%        435.000000   1166.000000    409.000000       3.534800   \n",
       "75%        647.000000   1725.000000    605.000000       4.743250   \n",
       "max       6445.000000  35682.000000   6082.000000      15.000100   \n",
       "\n",
       "       median_house_value  \n",
       "count        20640.000000  \n",
       "mean        206855.816909  \n",
       "std         115395.615874  \n",
       "min          14999.000000  \n",
       "25%         119600.000000  \n",
       "50%         179700.000000  \n",
       "75%         264725.000000  \n",
       "max         500001.000000  "
      ]
     },
     "execution_count": 17,
     "metadata": {},
     "output_type": "execute_result"
    }
   ],
   "source": [
    "data.describe()"
   ]
  },
  {
   "cell_type": "markdown",
   "id": "2912d9bf",
   "metadata": {
    "papermill": {
     "duration": 0.015624,
     "end_time": "2023-12-13T16:42:48.803958",
     "exception": false,
     "start_time": "2023-12-13T16:42:48.788334",
     "status": "completed"
    },
    "tags": []
   },
   "source": [
    "Range of total_rooms is from 2 to 39320 and of median_income is from 0.499900 to 15.000100. Therefore , a ML algo may be more bias towards total_rooms . To avoid this we use feature scaling .\n",
    "\n",
    "Few scallers :\n",
    "1. Min-Max Scaling\n",
    "2. Standardization"
   ]
  },
  {
   "cell_type": "code",
   "execution_count": 18,
   "id": "dfec6aba",
   "metadata": {
    "execution": {
     "iopub.execute_input": "2023-12-13T16:42:48.838907Z",
     "iopub.status.busy": "2023-12-13T16:42:48.838474Z",
     "iopub.status.idle": "2023-12-13T16:42:48.853955Z",
     "shell.execute_reply": "2023-12-13T16:42:48.852718Z"
    },
    "papermill": {
     "duration": 0.03581,
     "end_time": "2023-12-13T16:42:48.856324",
     "exception": false,
     "start_time": "2023-12-13T16:42:48.820514",
     "status": "completed"
    },
    "tags": []
   },
   "outputs": [
    {
     "data": {
      "text/plain": [
       "array([[-0.57768924,  0.13496281,  0.56862745, ..., -0.95888834,\n",
       "         0.07933684,  0.80453276],\n",
       "       [-0.57569721,  0.13071201, -0.21568627, ..., -0.62604835,\n",
       "         0.07605412,  0.41649313],\n",
       "       [-0.57968127,  0.12858661,  1.        , ..., -0.94211478,\n",
       "        -0.06794389,  0.39010148],\n",
       "       ...,\n",
       "       [-0.37649402,  0.46439957, -0.37254902, ..., -0.85791811,\n",
       "        -0.83447125, -0.6812343 ],\n",
       "       [-0.39641434,  0.46439957, -0.33333333, ..., -0.88554514,\n",
       "        -0.8114095 , -0.71257438],\n",
       "       [-0.38047809,  0.45164718, -0.41176471, ..., -0.82601546,\n",
       "        -0.73949325, -0.69319302]])"
      ]
     },
     "execution_count": 18,
     "metadata": {},
     "output_type": "execute_result"
    }
   ],
   "source": [
    "min_max_scaler=MinMaxScaler(feature_range=(-1,1))\n",
    "# will bring value between -1 and 1\n",
    "data_num=data.select_dtypes(include=[np.number])\n",
    "data_num_min_max_scaled=min_max_scaler.fit_transform(data_num)\n",
    "data_num_min_max_scaled"
   ]
  },
  {
   "cell_type": "code",
   "execution_count": 19,
   "id": "217e0cc4",
   "metadata": {
    "execution": {
     "iopub.execute_input": "2023-12-13T16:42:48.891148Z",
     "iopub.status.busy": "2023-12-13T16:42:48.890399Z",
     "iopub.status.idle": "2023-12-13T16:42:48.905631Z",
     "shell.execute_reply": "2023-12-13T16:42:48.904693Z"
    },
    "papermill": {
     "duration": 0.035374,
     "end_time": "2023-12-13T16:42:48.908248",
     "exception": false,
     "start_time": "2023-12-13T16:42:48.872874",
     "status": "completed"
    },
    "tags": []
   },
   "outputs": [
    {
     "data": {
      "text/plain": [
       "array([[-1.32783522,  1.05254828,  0.98214266, ..., -0.97703285,\n",
       "         2.34476576,  2.12963148],\n",
       "       [-1.32284391,  1.04318455, -0.60701891, ...,  1.66996103,\n",
       "         2.33223796,  1.31415614],\n",
       "       [-1.33282653,  1.03850269,  1.85618152, ..., -0.84363692,\n",
       "         1.7826994 ,  1.25869341],\n",
       "       ...,\n",
       "       [-0.8237132 ,  1.77823747, -0.92485123, ..., -0.17404163,\n",
       "        -1.14259331, -0.99274649],\n",
       "       [-0.87362627,  1.77823747, -0.84539315, ..., -0.39375258,\n",
       "        -1.05458292, -1.05860847],\n",
       "       [-0.83369581,  1.75014627, -1.00430931, ...,  0.07967221,\n",
       "        -0.78012947, -1.01787803]])"
      ]
     },
     "execution_count": 19,
     "metadata": {},
     "output_type": "execute_result"
    }
   ],
   "source": [
    "std_scaler=StandardScaler(with_mean=True,with_std=True)\n",
    "# z=(x-mean)/std_deviation\n",
    "data_num=data.select_dtypes(include=[np.number])\n",
    "data_num_std_scaler=std_scaler.fit_transform(data_num)\n",
    "data_num_std_scaler"
   ]
  },
  {
   "cell_type": "code",
   "execution_count": 20,
   "id": "50318333",
   "metadata": {
    "execution": {
     "iopub.execute_input": "2023-12-13T16:42:48.942988Z",
     "iopub.status.busy": "2023-12-13T16:42:48.942551Z",
     "iopub.status.idle": "2023-12-13T16:42:49.257804Z",
     "shell.execute_reply": "2023-12-13T16:42:49.255766Z"
    },
    "papermill": {
     "duration": 0.336725,
     "end_time": "2023-12-13T16:42:49.261130",
     "exception": false,
     "start_time": "2023-12-13T16:42:48.924405",
     "status": "completed"
    },
    "tags": []
   },
   "outputs": [
    {
     "data": {
      "text/plain": [
       "(array([1.9816e+04, 7.1100e+02, 9.5000e+01, 1.2000e+01, 4.0000e+00,\n",
       "        0.0000e+00, 0.0000e+00, 0.0000e+00, 1.0000e+00, 1.0000e+00]),\n",
       " array([3.00000e+00, 3.57090e+03, 7.13880e+03, 1.07067e+04, 1.42746e+04,\n",
       "        1.78425e+04, 2.14104e+04, 2.49783e+04, 2.85462e+04, 3.21141e+04,\n",
       "        3.56820e+04]),\n",
       " <BarContainer object of 10 artists>)"
      ]
     },
     "execution_count": 20,
     "metadata": {},
     "output_type": "execute_result"
    },
    {
     "data": {
      "image/png": "[encoded data removed]",
      "text/plain": [
       "<Figure size 640x480 with 1 Axes>"
      ]
     },
     "metadata": {},
     "output_type": "display_data"
    }
   ],
   "source": [
    "#case of heavy tail(when values far from the mean are not expotentialy rare)\n",
    "plt.hist(x=data['population'])"
   ]
  },
  {
   "cell_type": "code",
   "execution_count": 21,
   "id": "cdb38a76",
   "metadata": {
    "execution": {
     "iopub.execute_input": "2023-12-13T16:42:49.296629Z",
     "iopub.status.busy": "2023-12-13T16:42:49.296195Z",
     "iopub.status.idle": "2023-12-13T16:42:49.537323Z",
     "shell.execute_reply": "2023-12-13T16:42:49.536085Z"
    },
    "papermill": {
     "duration": 0.261976,
     "end_time": "2023-12-13T16:42:49.540113",
     "exception": false,
     "start_time": "2023-12-13T16:42:49.278137",
     "status": "completed"
    },
    "tags": []
   },
   "outputs": [
    {
     "data": {
      "text/plain": [
       "(array([3.0000e+00, 2.1000e+01, 8.5000e+01, 1.8700e+02, 6.5600e+02,\n",
       "        4.9080e+03, 1.1631e+04, 2.9050e+03, 2.3800e+02, 6.0000e+00]),\n",
       " array([ 1.09861229,  2.03699122,  2.97537016,  3.91374909,  4.85212803,\n",
       "         5.79050696,  6.7288859 ,  7.66726483,  8.60564377,  9.5440227 ,\n",
       "        10.48240164]),\n",
       " <BarContainer object of 10 artists>)"
      ]
     },
     "execution_count": 21,
     "metadata": {},
     "output_type": "execute_result"
    },
    {
     "data": {
      "image/png": "[encoded data removed]",
      "text/plain": [
       "<Figure size 640x480 with 1 Axes>"
      ]
     },
     "metadata": {},
     "output_type": "display_data"
    }
   ],
   "source": [
    "#Strategy: make it look closer to bell curve(gaussian curve)\n",
    "log_transformer=FunctionTransformer(np.log,inverse_func=np.exp)\n",
    "log_pop=log_transformer.transform(data['population'])\n",
    "plt.hist(x=log_pop)"
   ]
  },
  {
   "cell_type": "markdown",
   "id": "7feb99be",
   "metadata": {
    "papermill": {
     "duration": 0.016789,
     "end_time": "2023-12-13T16:42:49.574149",
     "exception": false,
     "start_time": "2023-12-13T16:42:49.557360",
     "status": "completed"
    },
    "tags": []
   },
   "source": [
    "# **Outlier Handling**"
   ]
  },
  {
   "cell_type": "code",
   "execution_count": 22,
   "id": "86095f3a",
   "metadata": {
    "execution": {
     "iopub.execute_input": "2023-12-13T16:42:49.612744Z",
     "iopub.status.busy": "2023-12-13T16:42:49.612309Z",
     "iopub.status.idle": "2023-12-13T16:42:49.618534Z",
     "shell.execute_reply": "2023-12-13T16:42:49.617193Z"
    },
    "papermill": {
     "duration": 0.028033,
     "end_time": "2023-12-13T16:42:49.621073",
     "exception": false,
     "start_time": "2023-12-13T16:42:49.593040",
     "status": "completed"
    },
    "tags": []
   },
   "outputs": [],
   "source": [
    "X=data.iloc[:,:-2]\n",
    "y=data.iloc[:,-2]"
   ]
  },
  {
   "cell_type": "markdown",
   "id": "ad5b3841",
   "metadata": {
    "papermill": {
     "duration": 0.016807,
     "end_time": "2023-12-13T16:42:49.655130",
     "exception": false,
     "start_time": "2023-12-13T16:42:49.638323",
     "status": "completed"
    },
    "tags": []
   },
   "source": [
    "# **Z-score :**\n",
    "The Z-score is the signed number of standard deviations by which the value of an observation or data point is above the mean value of what is being observed or measured."
   ]
  },
  {
   "cell_type": "code",
   "execution_count": 23,
   "id": "0bfdf6fe",
   "metadata": {
    "execution": {
     "iopub.execute_input": "2023-12-13T16:42:49.691479Z",
     "iopub.status.busy": "2023-12-13T16:42:49.691057Z",
     "iopub.status.idle": "2023-12-13T16:42:49.718775Z",
     "shell.execute_reply": "2023-12-13T16:42:49.717525Z"
    },
    "papermill": {
     "duration": 0.049416,
     "end_time": "2023-12-13T16:42:49.721639",
     "exception": false,
     "start_time": "2023-12-13T16:42:49.672223",
     "status": "completed"
    },
    "tags": []
   },
   "outputs": [
    {
     "data": {
      "text/html": [
       "<div>\n",
       "<style scoped>\n",
       "    .dataframe tbody tr th:only-of-type {\n",
       "        vertical-align: middle;\n",
       "    }\n",
       "\n",
       "    .dataframe tbody tr th {\n",
       "        vertical-align: top;\n",
       "    }\n",
       "\n",
       "    .dataframe thead th {\n",
       "        text-align: right;\n",
       "    }\n",
       "</style>\n",
       "<table border=\"1\" class=\"dataframe\">\n",
       "  <thead>\n",
       "    <tr style=\"text-align: right;\">\n",
       "      <th></th>\n",
       "      <th>longitude</th>\n",
       "      <th>latitude</th>\n",
       "      <th>housing_median_age</th>\n",
       "      <th>total_rooms</th>\n",
       "      <th>total_bedrooms</th>\n",
       "      <th>population</th>\n",
       "      <th>households</th>\n",
       "      <th>median_income</th>\n",
       "    </tr>\n",
       "  </thead>\n",
       "  <tbody>\n",
       "    <tr>\n",
       "      <th>0</th>\n",
       "      <td>1.327835</td>\n",
       "      <td>1.052548</td>\n",
       "      <td>0.982143</td>\n",
       "      <td>0.804819</td>\n",
       "      <td>NaN</td>\n",
       "      <td>0.974429</td>\n",
       "      <td>0.977033</td>\n",
       "      <td>2.344766</td>\n",
       "    </tr>\n",
       "    <tr>\n",
       "      <th>1</th>\n",
       "      <td>1.322844</td>\n",
       "      <td>1.043185</td>\n",
       "      <td>0.607019</td>\n",
       "      <td>2.045890</td>\n",
       "      <td>NaN</td>\n",
       "      <td>0.861439</td>\n",
       "      <td>1.669961</td>\n",
       "      <td>2.332238</td>\n",
       "    </tr>\n",
       "    <tr>\n",
       "      <th>2</th>\n",
       "      <td>1.332827</td>\n",
       "      <td>1.038503</td>\n",
       "      <td>1.856182</td>\n",
       "      <td>0.535746</td>\n",
       "      <td>NaN</td>\n",
       "      <td>0.820777</td>\n",
       "      <td>0.843637</td>\n",
       "      <td>1.782699</td>\n",
       "    </tr>\n",
       "    <tr>\n",
       "      <th>3</th>\n",
       "      <td>1.337818</td>\n",
       "      <td>1.038503</td>\n",
       "      <td>1.856182</td>\n",
       "      <td>0.624215</td>\n",
       "      <td>NaN</td>\n",
       "      <td>0.766028</td>\n",
       "      <td>0.733781</td>\n",
       "      <td>0.932968</td>\n",
       "    </tr>\n",
       "    <tr>\n",
       "      <th>4</th>\n",
       "      <td>1.337818</td>\n",
       "      <td>1.038503</td>\n",
       "      <td>1.856182</td>\n",
       "      <td>0.462404</td>\n",
       "      <td>NaN</td>\n",
       "      <td>0.759847</td>\n",
       "      <td>0.629157</td>\n",
       "      <td>0.012881</td>\n",
       "    </tr>\n",
       "    <tr>\n",
       "      <th>...</th>\n",
       "      <td>...</td>\n",
       "      <td>...</td>\n",
       "      <td>...</td>\n",
       "      <td>...</td>\n",
       "      <td>...</td>\n",
       "      <td>...</td>\n",
       "      <td>...</td>\n",
       "      <td>...</td>\n",
       "    </tr>\n",
       "    <tr>\n",
       "      <th>20635</th>\n",
       "      <td>0.758826</td>\n",
       "      <td>1.801647</td>\n",
       "      <td>0.289187</td>\n",
       "      <td>0.444985</td>\n",
       "      <td>NaN</td>\n",
       "      <td>0.512592</td>\n",
       "      <td>0.443449</td>\n",
       "      <td>1.216128</td>\n",
       "    </tr>\n",
       "    <tr>\n",
       "      <th>20636</th>\n",
       "      <td>0.818722</td>\n",
       "      <td>1.806329</td>\n",
       "      <td>0.845393</td>\n",
       "      <td>0.888704</td>\n",
       "      <td>NaN</td>\n",
       "      <td>0.944405</td>\n",
       "      <td>1.008420</td>\n",
       "      <td>0.691593</td>\n",
       "    </tr>\n",
       "    <tr>\n",
       "      <th>20637</th>\n",
       "      <td>0.823713</td>\n",
       "      <td>1.778237</td>\n",
       "      <td>0.924851</td>\n",
       "      <td>0.174995</td>\n",
       "      <td>NaN</td>\n",
       "      <td>0.369537</td>\n",
       "      <td>0.174042</td>\n",
       "      <td>1.142593</td>\n",
       "    </tr>\n",
       "    <tr>\n",
       "      <th>20638</th>\n",
       "      <td>0.873626</td>\n",
       "      <td>1.778237</td>\n",
       "      <td>0.845393</td>\n",
       "      <td>0.355600</td>\n",
       "      <td>NaN</td>\n",
       "      <td>0.604429</td>\n",
       "      <td>0.393753</td>\n",
       "      <td>1.054583</td>\n",
       "    </tr>\n",
       "    <tr>\n",
       "      <th>20639</th>\n",
       "      <td>0.833696</td>\n",
       "      <td>1.750146</td>\n",
       "      <td>1.004309</td>\n",
       "      <td>0.068408</td>\n",
       "      <td>NaN</td>\n",
       "      <td>0.033977</td>\n",
       "      <td>0.079672</td>\n",
       "      <td>0.780129</td>\n",
       "    </tr>\n",
       "  </tbody>\n",
       "</table>\n",
       "<p>20640 rows × 8 columns</p>\n",
       "</div>"
      ],
      "text/plain": [
       "       longitude  latitude  housing_median_age  total_rooms  total_bedrooms  \\\n",
       "0       1.327835  1.052548            0.982143     0.804819             NaN   \n",
       "1       1.322844  1.043185            0.607019     2.045890             NaN   \n",
       "2       1.332827  1.038503            1.856182     0.535746             NaN   \n",
       "3       1.337818  1.038503            1.856182     0.624215             NaN   \n",
       "4       1.337818  1.038503            1.856182     0.462404             NaN   \n",
       "...          ...       ...                 ...          ...             ...   \n",
       "20635   0.758826  1.801647            0.289187     0.444985             NaN   \n",
       "20636   0.818722  1.806329            0.845393     0.888704             NaN   \n",
       "20637   0.823713  1.778237            0.924851     0.174995             NaN   \n",
       "20638   0.873626  1.778237            0.845393     0.355600             NaN   \n",
       "20639   0.833696  1.750146            1.004309     0.068408             NaN   \n",
       "\n",
       "       population  households  median_income  \n",
       "0        0.974429    0.977033       2.344766  \n",
       "1        0.861439    1.669961       2.332238  \n",
       "2        0.820777    0.843637       1.782699  \n",
       "3        0.766028    0.733781       0.932968  \n",
       "4        0.759847    0.629157       0.012881  \n",
       "...           ...         ...            ...  \n",
       "20635    0.512592    0.443449       1.216128  \n",
       "20636    0.944405    1.008420       0.691593  \n",
       "20637    0.369537    0.174042       1.142593  \n",
       "20638    0.604429    0.393753       1.054583  \n",
       "20639    0.033977    0.079672       0.780129  \n",
       "\n",
       "[20640 rows x 8 columns]"
      ]
     },
     "execution_count": 23,
     "metadata": {},
     "output_type": "execute_result"
    }
   ],
   "source": [
    "#Z-score\n",
    "z = np.abs(stats.zscore(X))\n",
    "z"
   ]
  },
  {
   "cell_type": "code",
   "execution_count": 24,
   "id": "3c67c30e",
   "metadata": {
    "execution": {
     "iopub.execute_input": "2023-12-13T16:42:49.761372Z",
     "iopub.status.busy": "2023-12-13T16:42:49.760915Z",
     "iopub.status.idle": "2023-12-13T16:42:49.776153Z",
     "shell.execute_reply": "2023-12-13T16:42:49.773381Z"
    },
    "papermill": {
     "duration": 0.038882,
     "end_time": "2023-12-13T16:42:49.779326",
     "exception": false,
     "start_time": "2023-12-13T16:42:49.740444",
     "status": "completed"
    },
    "tags": []
   },
   "outputs": [
    {
     "name": "stdout",
     "output_type": "stream",
     "text": [
      "(array([   95,   131,   283,   508,   510,   511,   512,   514,   570,\n",
      "         570,   570,   576,   864,   864,   864,   865,   865,   865,\n",
      "         869,   871,   871,   871,   922,   922,   922,   985,   995,\n",
      "         995,  1010,  1010,  1010,  1021,  1021,  1021,  1060,  1060,\n",
      "        1060,  1277,  1508,  1508,  1560,  1560,  1564,  1566,  1583,\n",
      "        1586,  1617,  1642,  1642,  1642,  1645,  1645,  1646,  1700,\n",
      "        1700,  1700,  1930,  2294,  2311,  2963,  2963,  2963,  2975,\n",
      "        2975,  2999,  3177,  3413,  3554,  3560,  3603,  3603,  3621,\n",
      "        3621,  3648,  3648,  3942,  3942,  3981,  3981,  3996,  3996,\n",
      "        4035,  4035,  4035,  4042,  4047,  4116,  4220,  4229,  4253,\n",
      "        4262,  4266,  4345,  4352,  4579,  4579,  4604,  4605,  4606,\n",
      "        4616,  4616,  4626,  4634,  4636,  4636,  4678,  4686,  5242,\n",
      "        5243,  5244,  5247,  5248,  5250,  5253,  5256,  5257,  5258,\n",
      "        5259,  5260,  5272,  5275,  5281,  5291,  5304,  5352,  5383,\n",
      "        5494,  5540,  5540,  5540,  5724,  5728,  5921,  5921,  5921,\n",
      "        5924,  5924,  5924,  5964,  5964,  5964,  5982,  6055,  6055,\n",
      "        6055,  6057,  6057,  6057,  6061,  6061,  6061,  6063,  6063,\n",
      "        6063,  6065,  6065,  6065,  6066,  6066,  6066,  6287,  6287,\n",
      "        6287,  6297,  6297,  6297,  6328,  6328,  6328,  6329,  6329,\n",
      "        6329,  6338,  6338,  6338,  6340,  6340,  6391,  6399,  6401,\n",
      "        6401,  6516,  6518,  6590,  6591,  6592,  6705,  6712,  6724,\n",
      "        6726,  6727,  6731,  6735,  6736,  7361,  8467,  8467,  8468,\n",
      "        8468,  8716,  8716,  8716,  8717,  8717,  8728,  8728,  8792,\n",
      "        8794,  8795,  8801,  8804,  8804,  8804,  8805,  8816,  8841,\n",
      "        8846,  8847,  8848,  8849,  8850,  8851,  8852,  8853,  8854,\n",
      "        8875,  8876,  8878,  8882,  8985,  8985,  8985,  8986,  9004,\n",
      "        9013,  9013,  9013,  9018,  9018,  9018,  9019,  9019,  9019,\n",
      "        9023,  9027,  9027,  9036,  9040,  9040,  9040,  9064,  9064,\n",
      "        9064,  9081,  9114,  9122,  9122,  9122,  9133,  9133,  9133,\n",
      "        9135,  9135,  9135,  9145,  9145,  9145,  9154,  9154,  9154,\n",
      "        9159,  9159,  9159,  9166,  9166,  9166,  9167,  9167,  9167,\n",
      "        9170,  9170,  9170,  9172,  9183,  9183,  9183,  9185,  9185,\n",
      "        9185,  9282,  9282,  9285,  9286,  9286,  9286,  9316,  9370,\n",
      "        9381,  9418,  9693,  9697,  9697,  9716,  9716,  9744,  9744,\n",
      "        9744,  9748,  9811,  9880,  9880,  9880,  9881, 10155, 10309,\n",
      "       10309, 10309, 10458, 10483, 10517, 10539, 10539, 10539, 10653,\n",
      "       10664, 10673, 10727, 10749, 10760, 10842, 10948, 11000, 11037,\n",
      "       11067, 11067, 11490, 11520, 11775, 11775, 11775, 11785, 11912,\n",
      "       11960, 11960, 11960, 11982, 11989, 11989, 11989, 12006, 12006,\n",
      "       12006, 12040, 12041, 12067, 12067, 12067, 12077, 12077, 12084,\n",
      "       12106, 12106, 12106, 12109, 12109, 12109, 12114, 12114, 12114,\n",
      "       12115, 12115, 12115, 12119, 12119, 12119, 12128, 12128, 12128,\n",
      "       12129, 12129, 12132, 12132, 12132, 12137, 12137, 12137, 12152,\n",
      "       12152, 12152, 12191, 12191, 12191, 12194, 12194, 12194, 12201,\n",
      "       12201, 12201, 12204, 12204, 12204, 12214, 12214, 12214, 12215,\n",
      "       12215, 12215, 12218, 12227, 12227, 12227, 12243, 12325, 12351,\n",
      "       12365, 12365, 12371, 12374, 12374, 12375, 12376, 12377, 12382,\n",
      "       12385, 12386, 12395, 12406, 12623, 12623, 12623, 12671, 12671,\n",
      "       12671, 12703, 12703, 12813, 12813, 12814, 12814, 12814, 12817,\n",
      "       12817, 12817, 12868, 12868, 12868, 12872, 12872, 12872, 12954,\n",
      "       12954, 12954, 12957, 12957, 12957, 13034, 13041, 13051, 13051,\n",
      "       13051, 13080, 13080, 13080, 13098, 13098, 13098, 13099, 13099,\n",
      "       13099, 13132, 13139, 13139, 13139, 13176, 13176, 13176, 13181,\n",
      "       13181, 13182, 13182, 13221, 13221, 13221, 13368, 13370, 13370,\n",
      "       13370, 13373, 13377, 13378, 13379, 13379, 13379, 13382, 13382,\n",
      "       13382, 13383, 13383, 13387, 13387, 13387, 13399, 13422, 13424,\n",
      "       13517, 13517, 13517, 13715, 13715, 13788, 13834, 13834, 13834,\n",
      "       13848, 13848, 13848, 13878, 13878, 13878, 13889, 13890, 13958,\n",
      "       14209, 14471, 14486, 14505, 14505, 14505, 14543, 14543, 14543,\n",
      "       14553, 14553, 14553, 14558, 14558, 14558, 14684, 14931, 14931,\n",
      "       14931, 14959, 14959, 14959, 15049, 15049, 15049, 15059, 15061,\n",
      "       15061, 15061, 15105, 15105, 15105, 15114, 15114, 15117, 15117,\n",
      "       15117, 15183, 15203, 15203, 15203, 15215, 15215, 15215, 15220,\n",
      "       15220, 15220, 15231, 15241, 15286, 15286, 15336, 15336, 15336,\n",
      "       15337, 15337, 15337, 15360, 15360, 15360, 15413, 15413, 15413,\n",
      "       15459, 15459, 15459, 15524, 15524, 15524, 15527, 15527, 15533,\n",
      "       15544, 15574, 15657, 15659, 15693, 15698, 16171, 16606, 16606,\n",
      "       16606, 16669, 16828, 16839, 16839, 16839, 16845, 16908, 16910,\n",
      "       16911, 16912, 16913, 16915, 17024, 17024, 17024, 17107, 17108,\n",
      "       17110, 17111, 17113, 17118, 17158, 17162, 17166, 17170, 17185,\n",
      "       17310, 17413, 17413, 17413, 17551, 17690, 17754, 17761, 17770,\n",
      "       17770, 17777, 17777, 17777, 17798, 17845, 17845, 17845, 17858,\n",
      "       17964, 18052, 18080, 18209, 18209, 18209, 18282, 18341, 18346,\n",
      "       18346, 18346, 18349, 18352, 18354, 18355, 18361, 18362, 18363,\n",
      "       18501, 18504, 18745, 18745, 18745, 18860, 18860, 18860, 18875,\n",
      "       18875, 18875, 18926, 18926, 18926, 18980, 18980, 18985, 18985,\n",
      "       19006, 19452, 19452, 19452, 20110, 20163, 20249, 20249, 20249,\n",
      "       20271, 20278, 20308, 20316, 20336, 20336, 20336, 20424, 20424,\n",
      "       20424, 20427, 20427, 20436, 20440, 20440, 20440, 20451, 20451,\n",
      "       20451, 20529, 20530, 20530, 20530, 20544, 20563, 20563, 20563,\n",
      "       20629]), array([6, 7, 3, 6, 7, 7, 7, 7, 3, 5, 6, 3, 3, 5, 6, 3, 5, 6, 5, 3, 5, 6,\n",
      "       3, 5, 6, 3, 3, 6, 3, 5, 6, 3, 5, 6, 3, 5, 6, 3, 3, 6, 3, 6, 7, 7,\n",
      "       7, 7, 7, 3, 5, 6, 3, 7, 7, 3, 5, 6, 3, 6, 3, 3, 5, 6, 3, 6, 5, 5,\n",
      "       5, 6, 6, 5, 6, 5, 6, 5, 6, 5, 6, 3, 6, 3, 6, 3, 5, 6, 7, 7, 7, 7,\n",
      "       7, 6, 6, 6, 7, 7, 5, 6, 7, 7, 7, 5, 6, 7, 6, 5, 6, 7, 6, 7, 7, 7,\n",
      "       7, 7, 7, 7, 7, 7, 7, 7, 7, 7, 7, 7, 7, 7, 7, 6, 7, 3, 5, 6, 3, 7,\n",
      "       3, 5, 6, 3, 5, 6, 3, 5, 6, 6, 3, 5, 6, 3, 5, 6, 3, 5, 6, 3, 5, 6,\n",
      "       3, 5, 6, 3, 5, 6, 3, 5, 6, 3, 5, 6, 3, 5, 6, 3, 5, 6, 3, 5, 6, 5,\n",
      "       6, 7, 7, 3, 6, 5, 5, 7, 7, 7, 6, 7, 7, 7, 7, 7, 7, 7, 5, 5, 6, 5,\n",
      "       6, 3, 5, 6, 5, 6, 3, 6, 7, 7, 7, 6, 3, 5, 6, 7, 7, 6, 7, 7, 7, 7,\n",
      "       7, 7, 7, 7, 7, 7, 7, 7, 7, 3, 5, 6, 6, 3, 3, 5, 6, 3, 5, 6, 3, 5,\n",
      "       6, 3, 3, 6, 5, 3, 5, 6, 3, 5, 6, 5, 3, 3, 5, 6, 3, 5, 6, 3, 5, 6,\n",
      "       3, 5, 6, 3, 5, 6, 3, 5, 6, 3, 5, 6, 3, 5, 6, 3, 5, 6, 5, 3, 5, 6,\n",
      "       3, 5, 6, 3, 6, 6, 3, 5, 6, 7, 7, 7, 7, 5, 5, 6, 5, 6, 3, 5, 6, 5,\n",
      "       7, 3, 5, 6, 5, 7, 3, 5, 6, 7, 7, 7, 3, 5, 6, 3, 5, 7, 7, 7, 7, 6,\n",
      "       5, 7, 7, 5, 6, 7, 7, 3, 5, 6, 3, 7, 3, 5, 6, 3, 3, 5, 6, 3, 5, 6,\n",
      "       5, 6, 3, 5, 6, 3, 5, 3, 3, 5, 6, 3, 5, 6, 3, 5, 6, 3, 5, 6, 3, 5,\n",
      "       6, 3, 5, 6, 3, 5, 3, 5, 6, 3, 5, 6, 3, 5, 6, 3, 5, 6, 3, 5, 6, 3,\n",
      "       5, 6, 3, 5, 6, 3, 5, 6, 3, 5, 6, 3, 3, 5, 6, 6, 3, 3, 5, 6, 3, 3,\n",
      "       6, 3, 3, 3, 3, 3, 3, 3, 3, 3, 5, 6, 3, 5, 6, 3, 6, 3, 6, 3, 5, 6,\n",
      "       3, 5, 6, 3, 5, 6, 3, 5, 6, 3, 5, 6, 3, 5, 6, 5, 3, 3, 5, 6, 3, 5,\n",
      "       6, 3, 5, 6, 3, 5, 6, 5, 3, 5, 6, 3, 5, 6, 3, 5, 5, 6, 3, 5, 6, 3,\n",
      "       3, 5, 6, 3, 3, 3, 3, 5, 6, 3, 5, 6, 3, 5, 3, 5, 6, 3, 3, 3, 3, 5,\n",
      "       6, 3, 5, 5, 3, 5, 6, 3, 5, 6, 3, 5, 6, 5, 5, 3, 5, 5, 7, 3, 5, 6,\n",
      "       3, 5, 6, 3, 5, 6, 3, 5, 6, 3, 3, 5, 6, 3, 5, 6, 3, 5, 6, 6, 3, 5,\n",
      "       6, 3, 5, 6, 3, 5, 3, 5, 6, 3, 3, 5, 6, 3, 5, 6, 3, 5, 6, 7, 7, 3,\n",
      "       6, 3, 5, 6, 3, 5, 6, 3, 5, 6, 3, 5, 6, 3, 5, 6, 3, 5, 6, 5, 6, 6,\n",
      "       3, 3, 6, 6, 7, 7, 7, 3, 5, 6, 5, 7, 3, 5, 6, 6, 7, 7, 7, 7, 7, 7,\n",
      "       3, 5, 6, 7, 7, 7, 7, 7, 7, 7, 7, 7, 7, 3, 7, 3, 5, 6, 5, 5, 5, 5,\n",
      "       5, 6, 3, 5, 6, 7, 3, 5, 6, 7, 6, 7, 7, 3, 5, 6, 7, 7, 3, 5, 6, 5,\n",
      "       7, 7, 7, 7, 7, 7, 7, 7, 3, 5, 6, 3, 5, 6, 3, 5, 6, 3, 5, 6, 3, 5,\n",
      "       5, 6, 5, 3, 5, 6, 3, 7, 3, 5, 6, 3, 5, 5, 5, 3, 5, 6, 3, 5, 6, 3,\n",
      "       6, 7, 3, 5, 6, 3, 5, 6, 6, 3, 5, 6, 5, 3, 5, 6, 5]))\n"
     ]
    }
   ],
   "source": [
    "threshold = 4\n",
    "print(np.where(z > threshold))"
   ]
  },
  {
   "cell_type": "markdown",
   "id": "3d478a81",
   "metadata": {
    "papermill": {
     "duration": 0.017755,
     "end_time": "2023-12-13T16:42:49.817086",
     "exception": false,
     "start_time": "2023-12-13T16:42:49.799331",
     "status": "completed"
    },
    "tags": []
   },
   "source": [
    "# **IQR :**\n",
    "The interquartile range (IQR), also called the midspread or middle 50%, or technically H-spread, is a measure of statistical dispersion, being equal to the difference between 75th and 25th percentiles, or between upper and lower quartiles, IQR = Q3 − Q1.\n",
    "\n",
    "In other words, the IQR is the first quartile subtracted from the third quartile; these quartiles can be clearly seen on a box plot on the data.\n",
    "\n",
    "It is a measure of the dispersion similar to standard deviation or variance, but is much more robust against outliers."
   ]
  },
  {
   "cell_type": "code",
   "execution_count": 25,
   "id": "e605f57b",
   "metadata": {
    "execution": {
     "iopub.execute_input": "2023-12-13T16:42:49.856088Z",
     "iopub.status.busy": "2023-12-13T16:42:49.855692Z",
     "iopub.status.idle": "2023-12-13T16:42:49.873940Z",
     "shell.execute_reply": "2023-12-13T16:42:49.872463Z"
    },
    "papermill": {
     "duration": 0.040515,
     "end_time": "2023-12-13T16:42:49.876660",
     "exception": false,
     "start_time": "2023-12-13T16:42:49.836145",
     "status": "completed"
    },
    "tags": []
   },
   "outputs": [
    {
     "name": "stdout",
     "output_type": "stream",
     "text": [
      "longitude                3.79000\n",
      "latitude                 3.78000\n",
      "housing_median_age      19.00000\n",
      "total_rooms           1700.25000\n",
      "total_bedrooms         351.00000\n",
      "population             938.00000\n",
      "households             325.00000\n",
      "median_income            2.17985\n",
      "dtype: float64\n"
     ]
    }
   ],
   "source": [
    "Q1 = X.quantile(0.25)\n",
    "Q3 = X.quantile(0.75)\n",
    "IQR = Q3 - Q1\n",
    "print(IQR)"
   ]
  },
  {
   "cell_type": "code",
   "execution_count": 26,
   "id": "08eac903",
   "metadata": {
    "execution": {
     "iopub.execute_input": "2023-12-13T16:42:49.915451Z",
     "iopub.status.busy": "2023-12-13T16:42:49.915004Z",
     "iopub.status.idle": "2023-12-13T16:42:49.929764Z",
     "shell.execute_reply": "2023-12-13T16:42:49.928466Z"
    },
    "papermill": {
     "duration": 0.037278,
     "end_time": "2023-12-13T16:42:49.932756",
     "exception": false,
     "start_time": "2023-12-13T16:42:49.895478",
     "status": "completed"
    },
    "tags": []
   },
   "outputs": [
    {
     "name": "stdout",
     "output_type": "stream",
     "text": [
      "       longitude  latitude  housing_median_age  total_rooms  total_bedrooms  \\\n",
      "0           True     False               False        False           False   \n",
      "1           True     False               False        False           False   \n",
      "2           True     False               False        False           False   \n",
      "3           True     False               False        False           False   \n",
      "4           True     False               False        False           False   \n",
      "...          ...       ...                 ...          ...             ...   \n",
      "20635       True     False               False        False           False   \n",
      "20636       True     False               False        False           False   \n",
      "20637       True     False               False        False           False   \n",
      "20638       True     False               False        False           False   \n",
      "20639       True     False               False        False           False   \n",
      "\n",
      "       population  households  median_income  \n",
      "0           False       False          False  \n",
      "1           False       False          False  \n",
      "2           False       False          False  \n",
      "3           False       False          False  \n",
      "4           False       False          False  \n",
      "...           ...         ...            ...  \n",
      "20635       False       False          False  \n",
      "20636       False       False          False  \n",
      "20637       False       False          False  \n",
      "20638       False       False          False  \n",
      "20639       False       False          False  \n",
      "\n",
      "[20640 rows x 8 columns]\n"
     ]
    }
   ],
   "source": [
    "threshold=0.5\n",
    "print(X < (Q1 - threshold * IQR) |(X > (Q3 + threshold* IQR)))"
   ]
  },
  {
   "cell_type": "markdown",
   "id": "d3acb629",
   "metadata": {
    "papermill": {
     "duration": 0.01812,
     "end_time": "2023-12-13T16:42:49.969186",
     "exception": false,
     "start_time": "2023-12-13T16:42:49.951066",
     "status": "completed"
    },
    "tags": []
   },
   "source": [
    "# **Feature Engineering**"
   ]
  },
  {
   "cell_type": "code",
   "execution_count": 27,
   "id": "a10ef671",
   "metadata": {
    "execution": {
     "iopub.execute_input": "2023-12-13T16:42:50.008637Z",
     "iopub.status.busy": "2023-12-13T16:42:50.008200Z",
     "iopub.status.idle": "2023-12-13T16:42:50.021161Z",
     "shell.execute_reply": "2023-12-13T16:42:50.019994Z"
    },
    "papermill": {
     "duration": 0.036017,
     "end_time": "2023-12-13T16:42:50.023953",
     "exception": false,
     "start_time": "2023-12-13T16:42:49.987936",
     "status": "completed"
    },
    "tags": []
   },
   "outputs": [],
   "source": [
    "data_fscore=data.dropna()\n",
    "X=data_fscore.iloc[:,:-2]\n",
    "y=data_fscore.iloc[:,-2]"
   ]
  },
  {
   "cell_type": "markdown",
   "id": "adeb09ee",
   "metadata": {
    "papermill": {
     "duration": 0.018716,
     "end_time": "2023-12-13T16:42:50.061295",
     "exception": false,
     "start_time": "2023-12-13T16:42:50.042579",
     "status": "completed"
    },
    "tags": []
   },
   "source": [
    "# **Feature selection:**\n",
    "\n",
    "\n",
    "1. **Mutual Information:**\n",
    "Mutual information score can capture both linear and non-linear relationships between feature and target column, but needs more samples.\n",
    "2. **F-score :**\n",
    "F-score can find the linear relation between feature and target columns, and create scores accordingly. Using scores for each feature, we can eliminate the ones with a lower F-score.\n",
    "3. **Chi-square score :**\n",
    "Chi square is a test used in statistics to test the independence of two events. A lower value of chi square suggests that the two variables(feature and target) are independent. Higher values for two variables means dependent hence important features.(only for non negative values)"
   ]
  },
  {
   "cell_type": "code",
   "execution_count": 28,
   "id": "03700252",
   "metadata": {
    "execution": {
     "iopub.execute_input": "2023-12-13T16:42:50.101171Z",
     "iopub.status.busy": "2023-12-13T16:42:50.100630Z",
     "iopub.status.idle": "2023-12-13T16:42:51.573758Z",
     "shell.execute_reply": "2023-12-13T16:42:51.572351Z"
    },
    "papermill": {
     "duration": 1.497245,
     "end_time": "2023-12-13T16:42:51.576916",
     "exception": false,
     "start_time": "2023-12-13T16:42:50.079671",
     "status": "completed"
    },
    "tags": []
   },
   "outputs": [
    {
     "data": {
      "text/plain": [
       "<BarContainer object of 8 artists>"
      ]
     },
     "execution_count": 28,
     "metadata": {},
     "output_type": "execute_result"
    },
    {
     "data": {
      "image/png": "[encoded data removed]",
      "text/plain": [
       "<Figure size 640x480 with 1 Axes>"
      ]
     },
     "metadata": {},
     "output_type": "display_data"
    }
   ],
   "source": [
    "#method 1\n",
    "scores=mutual_info_regression(X,y)\n",
    "scores\n",
    "plt.bar([i for i in range(len(data_fscore.columns)-2)],scores)"
   ]
  },
  {
   "cell_type": "code",
   "execution_count": 29,
   "id": "6dc48fef",
   "metadata": {
    "execution": {
     "iopub.execute_input": "2023-12-13T16:42:51.616771Z",
     "iopub.status.busy": "2023-12-13T16:42:51.616357Z",
     "iopub.status.idle": "2023-12-13T16:42:51.944815Z",
     "shell.execute_reply": "2023-12-13T16:42:51.943518Z"
    },
    "papermill": {
     "duration": 0.351353,
     "end_time": "2023-12-13T16:42:51.947403",
     "exception": false,
     "start_time": "2023-12-13T16:42:51.596050",
     "status": "completed"
    },
    "tags": []
   },
   "outputs": [
    {
     "data": {
      "text/plain": [
       "<BarContainer object of 8 artists>"
      ]
     },
     "execution_count": 29,
     "metadata": {},
     "output_type": "execute_result"
    },
    {
     "data": {
      "image/png": "[encoded data removed]",
      "text/plain": [
       "<Figure size 640x480 with 1 Axes>"
      ]
     },
     "metadata": {},
     "output_type": "display_data"
    }
   ],
   "source": [
    "#method 2\n",
    "scores, _ =f_regression(X,y)\n",
    "scores\n",
    "plt.bar([i for i in range(len(data_fscore.columns)-2)],scores)"
   ]
  },
  {
   "cell_type": "markdown",
   "id": "f5629359",
   "metadata": {
    "papermill": {
     "duration": 0.019094,
     "end_time": "2023-12-13T16:42:51.985794",
     "exception": false,
     "start_time": "2023-12-13T16:42:51.966700",
     "status": "completed"
    },
    "tags": []
   },
   "source": [
    "# **Feature construction:**\n",
    "Tips :\n",
    "- Understand the features. Refer to your dataset's data documentation, if available.\n",
    "- Visualize the data."
   ]
  },
  {
   "cell_type": "code",
   "execution_count": 30,
   "id": "a86f4cd2",
   "metadata": {
    "execution": {
     "iopub.execute_input": "2023-12-13T16:42:52.027128Z",
     "iopub.status.busy": "2023-12-13T16:42:52.026713Z",
     "iopub.status.idle": "2023-12-13T16:42:53.621004Z",
     "shell.execute_reply": "2023-12-13T16:42:53.619582Z"
    },
    "papermill": {
     "duration": 1.618468,
     "end_time": "2023-12-13T16:42:53.623867",
     "exception": false,
     "start_time": "2023-12-13T16:42:52.005399",
     "status": "completed"
    },
    "tags": []
   },
   "outputs": [
    {
     "data": {
      "text/plain": [
       "<BarContainer object of 9 artists>"
      ]
     },
     "execution_count": 30,
     "metadata": {},
     "output_type": "execute_result"
    },
    {
     "data": {
      "image/png": "[encoded data removed]",
      "text/plain": [
       "<Figure size 640x480 with 1 Axes>"
      ]
     },
     "metadata": {},
     "output_type": "display_data"
    }
   ],
   "source": [
    "#Example :\n",
    "X['avg_rooms_per_house']=X['total_rooms']/X['households']\n",
    "scores=mutual_info_regression(X,y)\n",
    "scores\n",
    "plt.bar([i for i in range(len(data_fscore.columns)-1)],scores)"
   ]
  },
  {
   "cell_type": "markdown",
   "id": "373b29a4",
   "metadata": {
    "papermill": {
     "duration": 0.019422,
     "end_time": "2023-12-13T16:42:53.663709",
     "exception": false,
     "start_time": "2023-12-13T16:42:53.644287",
     "status": "completed"
    },
    "tags": []
   },
   "source": [
    "# **Cluster Labels as a Feature:(Divide and Conquer)**\n",
    "The idea for adding cluster labels is that the clusters will break up complicated relationships across features into simpler chunks. Our model can then just learn the simpler chunks one-by-one instead having to learn the complicated whole all at once."
   ]
  },
  {
   "cell_type": "code",
   "execution_count": 31,
   "id": "73705589",
   "metadata": {
    "execution": {
     "iopub.execute_input": "2023-12-13T16:42:53.705617Z",
     "iopub.status.busy": "2023-12-13T16:42:53.704939Z",
     "iopub.status.idle": "2023-12-13T16:42:54.937844Z",
     "shell.execute_reply": "2023-12-13T16:42:54.936496Z"
    },
    "papermill": {
     "duration": 1.257011,
     "end_time": "2023-12-13T16:42:54.940733",
     "exception": false,
     "start_time": "2023-12-13T16:42:53.683722",
     "status": "completed"
    },
    "tags": []
   },
   "outputs": [
    {
     "name": "stderr",
     "output_type": "stream",
     "text": [
      "/opt/conda/lib/python3.10/site-packages/sklearn/cluster/_kmeans.py:870: FutureWarning: The default value of `n_init` will change from 10 to 'auto' in 1.4. Set the value of `n_init` explicitly to suppress the warning\n",
      "  warnings.warn(\n"
     ]
    }
   ],
   "source": [
    "kmeans = KMeans(n_clusters=6)\n",
    "X = data.loc[:, [\"latitude\", \"longitude\"]]\n",
    "X[\"Cluster\"] = kmeans.fit_predict(X)\n",
    "X[\"Cluster\"] = X[\"Cluster\"].astype(\"category\")"
   ]
  },
  {
   "cell_type": "code",
   "execution_count": 32,
   "id": "ee8125ef",
   "metadata": {
    "execution": {
     "iopub.execute_input": "2023-12-13T16:42:54.982476Z",
     "iopub.status.busy": "2023-12-13T16:42:54.982043Z",
     "iopub.status.idle": "2023-12-13T16:42:57.686876Z",
     "shell.execute_reply": "2023-12-13T16:42:57.685957Z"
    },
    "papermill": {
     "duration": 2.730122,
     "end_time": "2023-12-13T16:42:57.691136",
     "exception": false,
     "start_time": "2023-12-13T16:42:54.961014",
     "status": "completed"
    },
    "tags": []
   },
   "outputs": [
    {
     "data": {
      "image/png": "[encoded data removed]",
      "text/plain": [
       "<Figure size 660.361x600 with 1 Axes>"
      ]
     },
     "metadata": {},
     "output_type": "display_data"
    }
   ],
   "source": [
    "sns.relplot(\n",
    "    x=\"longitude\", y=\"latitude\", hue=\"Cluster\", data=X, height=6,\n",
    ");"
   ]
  }
 ],
 "metadata": {
  "kaggle": {
   "accelerator": "none",
   "dataSources": [
    {
     "datasetId": 5227,
     "sourceId": 7876,
     "sourceType": "datasetVersion"
    }
   ],
   "dockerImageVersionId": 30615,
   "isGpuEnabled": false,
   "isInternetEnabled": true,
   "language": "python",
   "sourceType": "notebook"
  },
  "kernelspec": {
   "display_name": "Python 3",
   "language": "python",
   "name": "python3"
  },
  "language_info": {
   "codemirror_mode": {
    "name": "ipython",
    "version": 3
   },
   "file_extension": ".py",
   "mimetype": "text/x-python",
   "name": "python",
   "nbconvert_exporter": "python",
   "pygments_lexer": "ipython3",
   "version": "3.10.12"
  },
  "papermill": {
   "default_parameters": {},
   "duration": 19.361654,
   "end_time": "2023-12-13T16:42:58.436198",
   "environment_variables": {},
   "exception": null,
   "input_path": "__notebook__.ipynb",
   "output_path": "__notebook__.ipynb",
   "parameters": {},
   "start_time": "2023-12-13T16:42:39.074544",
   "version": "2.4.0"
  }
 },
 "nbformat": 4,
 "nbformat_minor": 5
}
